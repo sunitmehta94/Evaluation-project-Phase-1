{
 "cells": [
  {
   "cell_type": "code",
   "execution_count": 1,
   "id": "1629ebd2",
   "metadata": {},
   "outputs": [],
   "source": [
    "import numpy as np # linear algebra\n",
    "import pandas as pd # data processing, CSV file I/O (e.g. pd.read_csv)\n",
    "\n",
    "import seaborn as sns\n",
    "import matplotlib.pyplot as plt"
   ]
  },
  {
   "cell_type": "code",
   "execution_count": 1,
   "id": "53434096",
   "metadata": {},
   "outputs": [
    {
     "ename": "NameError",
     "evalue": "name 'pd' is not defined",
     "output_type": "error",
     "traceback": [
      "\u001b[1;31m---------------------------------------------------------------------------\u001b[0m",
      "\u001b[1;31mNameError\u001b[0m                                 Traceback (most recent call last)",
      "\u001b[1;32m~\\AppData\\Local\\Temp\\ipykernel_2452\\1423831662.py\u001b[0m in \u001b[0;36m<module>\u001b[1;34m\u001b[0m\n\u001b[1;32m----> 1\u001b[1;33m \u001b[0mdf\u001b[0m \u001b[1;33m=\u001b[0m \u001b[0mpd\u001b[0m\u001b[1;33m.\u001b[0m\u001b[0mread_csv\u001b[0m\u001b[1;33m(\u001b[0m\u001b[1;34m'https://github.com/dsrscientist/Data-Science-ML-Capstone-Projects/blob/master/baseball.csv'\u001b[0m\u001b[1;33m)\u001b[0m\u001b[1;33m\u001b[0m\u001b[1;33m\u001b[0m\u001b[0m\n\u001b[0m",
      "\u001b[1;31mNameError\u001b[0m: name 'pd' is not defined"
     ]
    }
   ],
   "source": [
    "df = pd.read_csv('https://github.com/dsrscientist/Data-Science-ML-Capstone-Projects/blob/master/baseball.csv')"
   ]
  },
  {
   "cell_type": "code",
   "execution_count": null,
   "id": "7d7decd5",
   "metadata": {},
   "outputs": [],
   "source": [
    "df.shape"
   ]
  },
  {
   "cell_type": "code",
   "execution_count": null,
   "id": "de8e8d9e",
   "metadata": {},
   "outputs": [],
   "source": [
    "sns.heatmap(df.isnull().sum().to_frame())"
   ]
  },
  {
   "cell_type": "code",
   "execution_count": null,
   "id": "3937d776",
   "metadata": {},
   "outputs": [],
   "source": [
    "df.info()"
   ]
  },
  {
   "cell_type": "code",
   "execution_count": null,
   "id": "07901bf8",
   "metadata": {},
   "outputs": [],
   "source": [
    "def pplot(df,i):\n",
    "plt.figure(figsize=(20,5))\n",
    "plt.subplot(1,3,1)\n",
    "sns.histplot(x=i,data=df,kde=True)\n",
    "plt.subplot(1,3,2)\n",
    "sns.regplot(x=i,y=’W’,data=df)\n",
    "plt.subplot(1,3,3)\n",
    "sns.boxplot(y=i,data=df)\n",
    "plt.show()"
   ]
  },
  {
   "cell_type": "code",
   "execution_count": null,
   "id": "200e915e",
   "metadata": {},
   "outputs": [],
   "source": [
    "z=np.abs(stat.zscore(df_z[num]))\n",
    "a=int(df_z.size)\n",
    "df_z = df_z[(z>3).all(axis=1)]"
   ]
  },
  {
   "cell_type": "code",
   "execution_count": null,
   "id": "24d88906",
   "metadata": {},
   "outputs": [],
   "source": [
    "Q1 = np.percentile(df_boston[‘DIS’], 25,\n",
    "interpolation = ‘midpoint’)\n",
    "Q3 = np.percentile(df_boston[‘DIS’], 75,\n",
    "interpolation = ‘midpoint’)\n",
    "IQR = Q3 — Q1\n",
    "print(“Old Shape: “, df_boston.shape)\n",
    "# Upper bound\n",
    "upper = np.where(df_boston[‘DIS’] >= (Q3+1.5*IQR))\n",
    "# Lower bound\n",
    "lower = np.where(df_boston[‘DIS’] <= (Q1–1.5*IQR))\n",
    "‘’’ Removing the Outliers ‘’’\n",
    "df_boston.drop(upper[0], inplace = True)\n",
    "df_boston.drop(lower[0], inplace = True)"
   ]
  },
  {
   "cell_type": "code",
   "execution_count": null,
   "id": "49c83643",
   "metadata": {},
   "outputs": [],
   "source": [
    "sns.heatmap(pt1.corr(),annot=True,cmap=’PiYG’)"
   ]
  },
  {
   "cell_type": "code",
   "execution_count": null,
   "id": "fc4cfa85",
   "metadata": {},
   "outputs": [],
   "source": [
    "from sklearn.feature_selection import SelectKBest\n",
    "from sklearn.feature_selection import f_classif\n",
    "s = SelectKBest(f_classif, k=15)\n",
    "s.fit(x,y)\n",
    "anova=pd.DataFrame([s.scores_,s.pvalues_],columns=x.columns).T.sort_values(by=0)"
   ]
  },
  {
   "cell_type": "code",
   "execution_count": null,
   "id": "04d0ee6c",
   "metadata": {},
   "outputs": [],
   "source": [
    "cv_results = cross_validate(lr(normalize=True), x, y, cv=3,scoring=’r2')\n",
    "lr_reg=cv_results[‘test_score’].mean()\n",
    "r2=[]\n",
    "r2.append(lr_reg)\n",
    "j=1\n",
    "k=1\n",
    "least_r21=-10\n",
    "while j==1:\n",
    "for i in x.columns:\n",
    "demo_x=x.drop(i,axis=1)\n",
    "cv_results = cross_validate(lr(normalize=True), demo_x, y, cv=3,scoring=’r2')\n",
    "lr_reg1=cv_results[‘test_score’].mean()\n",
    "if lr_reg1>lr_reg:\n",
    "least=i\n",
    "least_r2=lr_reg1\n",
    "lr_reg=lr_reg1\n",
    "if least_r21<least_r2:\n",
    "print(str(least) + ‘is having r2 score of’ + str(least_r2))\n",
    "least_r21=least_r2\n",
    "x.drop(least,axis=1,inplace=True)\n",
    "r2.append(lr_reg)\n",
    "k=k+1\n",
    "else:\n",
    "j=0\n",
    "plt.scatter(range(k),r2)"
   ]
  },
  {
   "cell_type": "code",
   "execution_count": null,
   "id": "b64f5a3a",
   "metadata": {},
   "outputs": [],
   "source": [
    "def pipeline_viz(df):\n",
    "num,cat=num_cat(df)\n",
    "num_plot(df,num)\n",
    "df[num]=pow_tran(df,num)\n",
    "df[num]=stan_sc(df,num)\n",
    "df[num]=z_outlier(df,num)\n",
    "df_new=dimention_reduction(df,num)\n",
    "return (df_new)"
   ]
  },
  {
   "cell_type": "code",
   "execution_count": null,
   "id": "e75e599f",
   "metadata": {},
   "outputs": [],
   "source": [
    "def num_cat(df):\n",
    "num=[]\n",
    "cat=[]\n",
    "count=df.nunique()\n",
    "for i in df.columns:\n",
    "if count[i]>5:\n",
    "num.append(i)\n",
    "else:\n",
    "cat.append(i)\n",
    "return(num,cat)\n",
    "from sklearn.preprocessing import power_transform as PT\n",
    "def pow_tran(df,num):\n",
    "pt=pd.DataFrame()\n",
    "for i in num:\n",
    "if df[i].min()<=0:\n",
    "pt1=(df[i]-df[i].min()+0.0001)\n",
    "else:\n",
    "pt1=df[i]\n",
    "pt=pd.concat([pt,pd.DataFrame(pt1)],axis=1)\n",
    "pt1=PT(pt)\n",
    "pt1=pd.DataFrame(pt1,columns=num)\n",
    "return(pt1)\n",
    "def num_plot(df,num):\n",
    "for i in num:\n",
    "plt.figure(figsize=(20,5))\n",
    "plt.subplot(1,3,1)\n",
    "sns.histplot(x=i,data=df,kde=True,hue=’Churn’)\n",
    "plt.subplot(1,3,2)\n",
    "sns.regplot(x=i,y=’W’data=df,kde=True,hue=’Churn’)\n",
    "plt.subplot(1,3,3)\n",
    "sns.boxplot(y=i,data=df)\n",
    "plt.show()\n",
    "def z_outlier(df,num):\n",
    "df_z=df[num]\n",
    "z=np.abs(stat.zscore(df_z))\n",
    "a=int(df_z.size)\n",
    "df_z = df_z[(z>3).all(axis=1)]\n",
    "print(‘Percent of data retained = ‘+ str(int(df_z.size)/a))\n",
    "return(df_z)\n",
    "def stan_sc(df,num):\n",
    "ss=StandardScaler()\n",
    "x=df[num].to_numpy()\n",
    "x1=pd.DataFrame(ss.fit_transform(x),columns=num)\n",
    "return(x1)"
   ]
  },
  {
   "cell_type": "code",
   "execution_count": null,
   "id": "9ea47856",
   "metadata": {},
   "outputs": [],
   "source": [
    "def clf(model,x,y,x_test,y_test):\n",
    "lr = model.fit(x, y)\n",
    "y_pred=lr.predict(x_test)\n",
    "print(confusion_matrix(y_test,y_pred))\n",
    "print(accuracy_score(y_test,y_pred))\n",
    "print(classification_report(y_test,y_pred))\n",
    "lr_acc=f1_score(y_test,y_pred)\n",
    "cv_results = cross_validate(model, x, y, cv=10)\n",
    "lr_score=cv_results[‘test_score’].mean()\n",
    "return(lr_acc,lr_score)\n",
    "lr_acc,lr_score=clf(LinearRegression(),x_train_scaler,y_train,x_test_scaler,y_test)\n",
    "rfc_acc,rfc_score=clf(RFR(),x_train_scaler,y_train,x_test_scaler,y_test)\n",
    "xgc_acc,xgc_score=clf(XBR(),x_train_scaler,y_train,x_test_scaler,y_test)\n",
    "etc_acc,etc_score=clf(ETR(),x_train_scaler,y_train,x_test_scaler,y_test)\n",
    "svc_acc,svc_score=clf(SVC(),x_train_scaler,y_train,x_test_scaler,y_test)\n",
    "score=[lr_score,rfc_score,xgc_score,etc_score,svc_score]\n",
    "error=[lr_acc,rfc_acc,xgc_acc,etc_acc,svc_acc]\n",
    "name=[‘LR’,’RFR’,’XGR’,’ETR’,’SVR’]\n",
    "diff=[]\n",
    "for i in range(5):\n",
    "diff.append(score[i]-error[i])\n",
    "pd.DataFrame([name,score,error,diff]).T"
   ]
  },
  {
   "cell_type": "code",
   "execution_count": null,
   "id": "23da9930",
   "metadata": {},
   "outputs": [],
   "source": [
    "from sklearn.model_selection import GridSearchCV\n",
    "ridge_params = {‘alpha’:[1,2,3,4,5,6,7,8,9,10]}\n",
    "xg_grid = GridSearchCV(Ridge(), ridge_params, cv=3)\n",
    "xg_grid.fit(x_train_scaler, y_train)\n",
    "print(‘Best score:’, xg_grid.best_score_)\n",
    "print(‘Best score:’, xg_grid.best_params_)\n",
    "print(‘Best score:’, xg_grid.best_estimator_)"
   ]
  },
  {
   "cell_type": "code",
   "execution_count": null,
   "id": "95af00f5",
   "metadata": {},
   "outputs": [],
   "source": []
  },
  {
   "cell_type": "code",
   "execution_count": null,
   "id": "77b764c3",
   "metadata": {},
   "outputs": [],
   "source": []
  },
  {
   "cell_type": "code",
   "execution_count": null,
   "id": "0b2e3c67",
   "metadata": {},
   "outputs": [],
   "source": []
  },
  {
   "cell_type": "code",
   "execution_count": null,
   "id": "37e8389c",
   "metadata": {},
   "outputs": [],
   "source": []
  }
 ],
 "metadata": {
  "kernelspec": {
   "display_name": "Python 3 (ipykernel)",
   "language": "python",
   "name": "python3"
  },
  "language_info": {
   "codemirror_mode": {
    "name": "ipython",
    "version": 3
   },
   "file_extension": ".py",
   "mimetype": "text/x-python",
   "name": "python",
   "nbconvert_exporter": "python",
   "pygments_lexer": "ipython3",
   "version": "3.9.13"
  }
 },
 "nbformat": 4,
 "nbformat_minor": 5
}
